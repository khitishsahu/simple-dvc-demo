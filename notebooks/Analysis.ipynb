{
 "cells": [
  {
   "cell_type": "code",
   "execution_count": 1,
   "id": "25fe7350",
   "metadata": {},
   "outputs": [],
   "source": [
    "import pandas as pd"
   ]
  },
  {
   "cell_type": "code",
   "execution_count": 4,
   "id": "3916551b",
   "metadata": {},
   "outputs": [],
   "source": [
    "df = pd.read_csv(\"../data_given/winequality.csv\")"
   ]
  },
  {
   "cell_type": "code",
   "execution_count": 19,
   "id": "20ffad0e",
   "metadata": {},
   "outputs": [],
   "source": [
    "overview = df.describe()"
   ]
  },
  {
   "cell_type": "code",
   "execution_count": 25,
   "id": "618ec8da",
   "metadata": {},
   "outputs": [],
   "source": [
    "overview.loc[[\"min\",\"max\"]].to_json(\"shema_in.json\")"
   ]
  },
  {
   "cell_type": "code",
   "execution_count": null,
   "id": "20009c9d",
   "metadata": {},
   "outputs": [],
   "source": [
    "class NotInRange(Exception):\n",
    "    def __init__(self,input_,message=\"Value not in range\"):\n",
    "        self.input_ = input"
   ]
  }
 ],
 "metadata": {
  "kernelspec": {
   "display_name": "Python 3",
   "language": "python",
   "name": "python3"
  },
  "language_info": {
   "codemirror_mode": {
    "name": "ipython",
    "version": 3
   },
   "file_extension": ".py",
   "mimetype": "text/x-python",
   "name": "python",
   "nbconvert_exporter": "python",
   "pygments_lexer": "ipython3",
   "version": "3.8.8"
  }
 },
 "nbformat": 4,
 "nbformat_minor": 5
}
